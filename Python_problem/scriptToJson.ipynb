{
 "cells": [
  {
   "cell_type": "code",
   "execution_count": 11,
   "metadata": {},
   "outputs": [],
   "source": [
    "import tweepy\n",
    "import itertools\n",
    "from tweepy import OAuthHandler\n",
    "import json, csv\n",
    "import jsonlines\n",
    "import datetime as dt\n",
    "import time\n",
    "import os\n",
    "import sys\n",
    "import io"
   ]
  },
  {
   "cell_type": "markdown",
   "metadata": {},
   "source": [
    "## Function returns api"
   ]
  },
  {
   "cell_type": "code",
   "execution_count": 12,
   "metadata": {},
   "outputs": [],
   "source": [
    "def twitter_setup():\n",
    "    consumer_key = '54oJ9jI6ANEVauokqxDZFjHyh'\n",
    "    consumer_secret = 'APSbbQmiqT521UjSvFSIgZzWO7zosbIxsKDR6yDxa8uh5L7dds'\n",
    "    access_token = '1114440557617602560-0DtZbzSmhPGtU3vNk7ASGjh4Jw9TLu'\n",
    "    access_secret = 'fFqcqgzkttvFQ0kwYKF5V2cLZSDtHUtofmTAWKe4dPs10'\n",
    "\n",
    "    auth = OAuthHandler(consumer_key, consumer_secret)\n",
    "    auth.set_access_token(access_token, access_secret)\n",
    " \n",
    "    api = tweepy.API(auth)\n",
    "    return api\n"
   ]
  },
  {
   "cell_type": "code",
   "execution_count": 13,
   "metadata": {},
   "outputs": [],
   "source": [
    "extractor = twitter_setup()"
   ]
  },
  {
   "cell_type": "markdown",
   "metadata": {},
   "source": [
    "## Function to extract tweets"
   ]
  },
  {
   "cell_type": "code",
   "execution_count": 14,
   "metadata": {},
   "outputs": [],
   "source": [
    "def tweet_nikalo():    \n",
    "    tweets = extractor.user_timeline(screen_name=\"midasIIITD\", count=200)\n",
    "    return tweets"
   ]
  },
  {
   "cell_type": "code",
   "execution_count": 15,
   "metadata": {},
   "outputs": [],
   "source": [
    "tweets = tweet_nikalo()"
   ]
  },
  {
   "cell_type": "markdown",
   "metadata": {},
   "source": [
    "## Writes output to jsonlines file"
   ]
  },
  {
   "cell_type": "code",
   "execution_count": 16,
   "metadata": {},
   "outputs": [],
   "source": [
    "with jsonlines.open('output.jsonl', mode='w') as writer:\n",
    "    for tweet in tweets:\n",
    "        json_data = tweet._json\n",
    "        json_parsed = tweet\n",
    "        # print(json_parsed['contributors'])\n",
    "        # print(tweet._json)\n",
    "        writer.write(json_data)"
   ]
  }
 ],
 "metadata": {
  "kernelspec": {
   "display_name": "Python 3",
   "language": "python",
   "name": "python3"
  },
  "language_info": {
   "codemirror_mode": {
    "name": "ipython",
    "version": 3
   },
   "file_extension": ".py",
   "mimetype": "text/x-python",
   "name": "python",
   "nbconvert_exporter": "python",
   "pygments_lexer": "ipython3",
   "version": "3.5.2"
  }
 },
 "nbformat": 4,
 "nbformat_minor": 2
}
