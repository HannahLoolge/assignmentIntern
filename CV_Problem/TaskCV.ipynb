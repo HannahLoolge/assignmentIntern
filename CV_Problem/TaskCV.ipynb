{
 "cells": [
  {
   "cell_type": "code",
   "execution_count": null,
   "metadata": {
    "colab": {
     "base_uri": "https://localhost:8080/",
     "height": 35
    },
    "colab_type": "code",
    "id": "KnYXTDzYxr66",
    "outputId": "096943f4-6906-4736-fef1-55e590e4de15"
   },
   "outputs": [],
   "source": []
  },
  {
   "cell_type": "code",
   "execution_count": 1,
   "metadata": {
    "colab": {},
    "colab_type": "code",
    "id": "tso2BzPdxnhM"
   },
   "outputs": [],
   "source": [
    "%matplotlib inline\n",
    "import os\n",
    "import struct\n",
    "import torch\n",
    "from PIL import Image\n",
    "import matplotlib.pyplot as plt\n",
    "import numpy as np\n",
    "import torchvision\n",
    "from torchvision import transforms, models\n",
    "import torch.optim as optim\n",
    "from torch.autograd import Variable\n",
    "import torch.nn.functional as F\n",
    "import pickle\n",
    "import torch.nn as nn\n",
    "import time"
   ]
  },
  {
   "cell_type": "code",
   "execution_count": null,
   "metadata": {
    "colab": {
     "base_uri": "https://localhost:8080/",
     "height": 35
    },
    "colab_type": "code",
    "id": "kV0gaZNgxuuO",
    "outputId": "319e5657-ca26-4699-9d43-a03cf7113251"
   },
   "outputs": [],
   "source": []
  },
  {
   "cell_type": "code",
   "execution_count": 2,
   "metadata": {
    "colab": {},
    "colab_type": "code",
    "id": "wn1qiU-nxzf4"
   },
   "outputs": [],
   "source": [
    "# Loading the saved features\n",
    "with open(\"test_image.pkl\", \"rb\") as f:\n",
    "    testImages = pickle.load(f)\n",
    "\n",
    "with open(\"train_image.pkl\", \"rb\") as f:\n",
    "    trainImages = pickle.load(f)\n",
    "with open(\"train_label.pkl\", \"rb\") as f:\n",
    "    trainLabels = pickle.load(f)"
   ]
  },
  {
   "cell_type": "code",
   "execution_count": 3,
   "metadata": {
    "colab": {},
    "colab_type": "code",
    "id": "4POLTaZeOLjg"
   },
   "outputs": [],
   "source": [
    "testLabels = [None] * 2000\n",
    "for i in range(8000):\n",
    "  if(trainLabels[i]==6):\n",
    "    trainLabels[i] = 1\n",
    "for i in range(500):\n",
    "  testLabels[i] = 0\n",
    "  testLabels[i+500] = 2\n",
    "  testLabels[i+1000] = 3\n",
    "  testLabels[i+1500] = 1"
   ]
  },
  {
   "cell_type": "code",
   "execution_count": 4,
   "metadata": {
    "colab": {},
    "colab_type": "code",
    "id": "I2Mzpe7C1TYp"
   },
   "outputs": [],
   "source": [
    "trainImages = np.asarray(trainImages)\n",
    "trainImages = trainImages.reshape(-1,1,28,28)\n",
    "testImages = np.asarray(testImages)\n",
    "testImages = testImages.reshape(-1,1,28,28)\n",
    "\n",
    "trainImages = (torch.from_numpy(trainImages)).float()\n",
    "trainLabels = torch.from_numpy(np.asarray(trainLabels))\n",
    "testImages = (torch.from_numpy(np.asarray(testImages))).float()\n",
    "testLabels = torch.from_numpy(np.asarray(testLabels))"
   ]
  },
  {
   "cell_type": "code",
   "execution_count": null,
   "metadata": {
    "colab": {},
    "colab_type": "code",
    "id": "-vizalYG2Oy-"
   },
   "outputs": [],
   "source": []
  },
  {
   "cell_type": "code",
   "execution_count": 5,
   "metadata": {
    "colab": {},
    "colab_type": "code",
    "id": "bV4pWM7t0s5b"
   },
   "outputs": [],
   "source": [
    "# plt.imshow(trainImages[0].reshape((28,28)))\n",
    "# print(trainLabels[0])"
   ]
  },
  {
   "cell_type": "code",
   "execution_count": 6,
   "metadata": {
    "colab": {},
    "colab_type": "code",
    "id": "zbb5AaT2Jsp-"
   },
   "outputs": [],
   "source": [
    "BatchSize = 100\n",
    "\n",
    "trainset = torch.utils.data.TensorDataset(trainImages, trainLabels)\n",
    "testset = torch.utils.data.TensorDataset(testImages, testLabels)\n",
    "trainLoader = torch.utils.data.DataLoader(trainset, batch_size=BatchSize, shuffle=True, num_workers=4)\n",
    "testLoader = torch.utils.data.DataLoader(testset, batch_size=BatchSize, shuffle=False, num_workers=4)"
   ]
  },
  {
   "cell_type": "code",
   "execution_count": 7,
   "metadata": {
    "colab": {
     "base_uri": "https://localhost:8080/",
     "height": 54
    },
    "colab_type": "code",
    "id": "G7RmWn7xLlyR",
    "outputId": "776593e1-2e27-4e03-f89f-7168ee8ea990"
   },
   "outputs": [
    {
     "name": "stdout",
     "output_type": "stream",
     "text": [
      "No. of samples in train set: 8000\n",
      "No. of samples in test set: 2000\n"
     ]
    }
   ],
   "source": [
    "print('No. of samples in train set: '+str(len(trainLoader.dataset)))\n",
    "print('No. of samples in test set: '+str(len(testLoader.dataset)))"
   ]
  },
  {
   "cell_type": "code",
   "execution_count": 8,
   "metadata": {
    "colab": {},
    "colab_type": "code",
    "id": "hJbgFAB4NHVH"
   },
   "outputs": [],
   "source": [
    "class LeNet(nn.Module):\n",
    "    def __init__(self):\n",
    "        super(LeNet, self).__init__()\n",
    "        self.conv1 = nn.Conv2d(1, 6, kernel_size=5)\n",
    "        self.pool1 = nn.MaxPool2d(kernel_size=2,stride=2)\n",
    "        self.conv2 = nn.Conv2d(6, 16, kernel_size=5)\n",
    "        self.pool2 = nn.MaxPool2d(kernel_size=2,stride=2)        \n",
    "        self.fc1 = nn.Linear(256, 120)\n",
    "        self.fc2 = nn.Linear(120, 84)\n",
    "        self.fc3 = nn.Linear(84, 4)\n",
    "\n",
    "    def forward(self, x):\n",
    "        x = F.relu(self.conv1(x))\n",
    "        x = self.pool1(x)\n",
    "        x = F.relu(self.conv2(x))\n",
    "        x = self.pool2(x)\n",
    "        x = x.view(x.size(0), -1)\n",
    "        x = F.relu(self.fc1(x)) \n",
    "        x = F.relu(self.fc2(x))\n",
    "        x = self.fc3(x)\n",
    "        return F.log_softmax(x)\n"
   ]
  },
  {
   "cell_type": "code",
   "execution_count": 9,
   "metadata": {
    "colab": {
     "base_uri": "https://localhost:8080/",
     "height": 182
    },
    "colab_type": "code",
    "id": "n5PE7IGkTyOm",
    "outputId": "c75e6516-a9c1-493a-ab1b-0862caeb4280"
   },
   "outputs": [
    {
     "name": "stdout",
     "output_type": "stream",
     "text": [
      "LeNet(\n",
      "  (conv1): Conv2d(1, 6, kernel_size=(5, 5), stride=(1, 1))\n",
      "  (pool1): MaxPool2d(kernel_size=2, stride=2, padding=0, dilation=1, ceil_mode=False)\n",
      "  (conv2): Conv2d(6, 16, kernel_size=(5, 5), stride=(1, 1))\n",
      "  (pool2): MaxPool2d(kernel_size=2, stride=2, padding=0, dilation=1, ceil_mode=False)\n",
      "  (fc1): Linear(in_features=256, out_features=120, bias=True)\n",
      "  (fc2): Linear(in_features=120, out_features=84, bias=True)\n",
      "  (fc3): Linear(in_features=84, out_features=4, bias=True)\n",
      ")\n"
     ]
    }
   ],
   "source": [
    "net = LeNet()\n",
    "print(net)"
   ]
  },
  {
   "cell_type": "code",
   "execution_count": 10,
   "metadata": {
    "colab": {
     "base_uri": "https://localhost:8080/",
     "height": 35
    },
    "colab_type": "code",
    "id": "ApmS5dA8T1R7",
    "outputId": "115cf69d-6d71-432a-ba2d-f5848d2ece12"
   },
   "outputs": [],
   "source": [
    "# Check availability of GPU\n",
    "use_gpu = torch.cuda.is_available()\n",
    "if use_gpu:\n",
    "    print('GPU is available!')   \n",
    "    net = net.cuda()"
   ]
  },
  {
   "cell_type": "code",
   "execution_count": 11,
   "metadata": {
    "colab": {},
    "colab_type": "code",
    "id": "dtHSopXiWCJ5"
   },
   "outputs": [],
   "source": [
    "criterion = nn.NLLLoss() # Negative Log-likelihood\n",
    "optimizer = optim.Adam(net.parameters(), lr=1e-5) # Adam"
   ]
  },
  {
   "cell_type": "code",
   "execution_count": 13,
   "metadata": {
    "colab": {
     "base_uri": "https://localhost:8080/",
     "height": 1521
    },
    "colab_type": "code",
    "id": "JLtzO3dgWICX",
    "outputId": "2dfc6159-7ef4-44d0-80e8-51d01f04c26c"
   },
   "outputs": [
    {
     "name": "stderr",
     "output_type": "stream",
     "text": [
      "/home/akansha/.local/lib/python3.5/site-packages/ipykernel_launcher.py:21: UserWarning: Implicit dimension choice for log_softmax has been deprecated. Change the call to include dim=X as an argument.\n"
     ]
    },
    {
     "name": "stdout",
     "output_type": "stream",
     "text": [
      "Iteration: 1 /100  ;  Training Loss: 0.016564 ; Testing Acc: 34.950 ; Time consumed: 0m 2s \n",
      "Iteration: 2 /100  ;  Training Loss: 0.012526 ; Testing Acc: 50.550 ; Time consumed: 0m 2s \n",
      "Iteration: 3 /100  ;  Training Loss: 0.010548 ; Testing Acc: 59.200 ; Time consumed: 0m 2s \n",
      "Iteration: 4 /100  ;  Training Loss: 0.009227 ; Testing Acc: 63.400 ; Time consumed: 0m 2s \n",
      "Iteration: 5 /100  ;  Training Loss: 0.008364 ; Testing Acc: 66.450 ; Time consumed: 0m 2s \n",
      "Iteration: 6 /100  ;  Training Loss: 0.007839 ; Testing Acc: 66.950 ; Time consumed: 0m 1s \n",
      "Iteration: 7 /100  ;  Training Loss: 0.007481 ; Testing Acc: 68.500 ; Time consumed: 0m 2s \n",
      "Iteration: 8 /100  ;  Training Loss: 0.007233 ; Testing Acc: 68.700 ; Time consumed: 0m 2s \n",
      "Iteration: 9 /100  ;  Training Loss: 0.007039 ; Testing Acc: 68.850 ; Time consumed: 0m 2s \n",
      "Iteration: 10 /100  ;  Training Loss: 0.006891 ; Testing Acc: 70.000 ; Time consumed: 0m 2s \n",
      "Iteration: 11 /100  ;  Training Loss: 0.006743 ; Testing Acc: 69.800 ; Time consumed: 0m 2s \n",
      "Iteration: 12 /100  ;  Training Loss: 0.006613 ; Testing Acc: 70.850 ; Time consumed: 0m 1s \n",
      "Iteration: 13 /100  ;  Training Loss: 0.006497 ; Testing Acc: 71.450 ; Time consumed: 0m 2s \n",
      "Iteration: 14 /100  ;  Training Loss: 0.006385 ; Testing Acc: 72.000 ; Time consumed: 0m 2s \n",
      "Iteration: 15 /100  ;  Training Loss: 0.006277 ; Testing Acc: 72.500 ; Time consumed: 0m 2s \n",
      "Iteration: 16 /100  ;  Training Loss: 0.006178 ; Testing Acc: 72.500 ; Time consumed: 0m 1s \n",
      "Iteration: 17 /100  ;  Training Loss: 0.006093 ; Testing Acc: 73.150 ; Time consumed: 0m 2s \n",
      "Iteration: 18 /100  ;  Training Loss: 0.006020 ; Testing Acc: 73.750 ; Time consumed: 0m 2s \n",
      "Iteration: 19 /100  ;  Training Loss: 0.005936 ; Testing Acc: 74.350 ; Time consumed: 0m 2s \n",
      "Iteration: 20 /100  ;  Training Loss: 0.005865 ; Testing Acc: 74.500 ; Time consumed: 0m 2s \n",
      "Iteration: 21 /100  ;  Training Loss: 0.005804 ; Testing Acc: 74.350 ; Time consumed: 0m 2s \n",
      "Iteration: 22 /100  ;  Training Loss: 0.005737 ; Testing Acc: 75.200 ; Time consumed: 0m 2s \n",
      "Iteration: 23 /100  ;  Training Loss: 0.005673 ; Testing Acc: 76.450 ; Time consumed: 0m 2s \n",
      "Iteration: 24 /100  ;  Training Loss: 0.005620 ; Testing Acc: 75.000 ; Time consumed: 0m 2s \n",
      "Iteration: 25 /100  ;  Training Loss: 0.005567 ; Testing Acc: 76.000 ; Time consumed: 0m 2s \n",
      "Iteration: 26 /100  ;  Training Loss: 0.005505 ; Testing Acc: 75.600 ; Time consumed: 0m 2s \n",
      "Iteration: 27 /100  ;  Training Loss: 0.005455 ; Testing Acc: 76.750 ; Time consumed: 0m 1s \n",
      "Iteration: 28 /100  ;  Training Loss: 0.005406 ; Testing Acc: 75.850 ; Time consumed: 0m 1s \n",
      "Iteration: 29 /100  ;  Training Loss: 0.005362 ; Testing Acc: 76.450 ; Time consumed: 0m 2s \n",
      "Iteration: 30 /100  ;  Training Loss: 0.005319 ; Testing Acc: 76.750 ; Time consumed: 0m 2s \n",
      "Iteration: 31 /100  ;  Training Loss: 0.005262 ; Testing Acc: 77.100 ; Time consumed: 0m 2s \n",
      "Iteration: 32 /100  ;  Training Loss: 0.005222 ; Testing Acc: 77.200 ; Time consumed: 0m 1s \n",
      "Iteration: 33 /100  ;  Training Loss: 0.005184 ; Testing Acc: 77.250 ; Time consumed: 0m 1s \n",
      "Iteration: 34 /100  ;  Training Loss: 0.005151 ; Testing Acc: 77.500 ; Time consumed: 0m 1s \n",
      "Iteration: 35 /100  ;  Training Loss: 0.005113 ; Testing Acc: 77.400 ; Time consumed: 0m 1s \n",
      "Iteration: 36 /100  ;  Training Loss: 0.005073 ; Testing Acc: 77.400 ; Time consumed: 0m 2s \n",
      "Iteration: 37 /100  ;  Training Loss: 0.005034 ; Testing Acc: 77.150 ; Time consumed: 0m 2s \n",
      "Iteration: 38 /100  ;  Training Loss: 0.004998 ; Testing Acc: 77.350 ; Time consumed: 0m 2s \n",
      "Iteration: 39 /100  ;  Training Loss: 0.004958 ; Testing Acc: 77.800 ; Time consumed: 0m 2s \n",
      "Iteration: 40 /100  ;  Training Loss: 0.004927 ; Testing Acc: 77.650 ; Time consumed: 0m 1s \n",
      "Iteration: 41 /100  ;  Training Loss: 0.004899 ; Testing Acc: 77.600 ; Time consumed: 0m 2s \n",
      "Iteration: 42 /100  ;  Training Loss: 0.004866 ; Testing Acc: 78.050 ; Time consumed: 0m 1s \n",
      "Iteration: 43 /100  ;  Training Loss: 0.004841 ; Testing Acc: 77.600 ; Time consumed: 0m 2s \n",
      "Iteration: 44 /100  ;  Training Loss: 0.004814 ; Testing Acc: 77.800 ; Time consumed: 0m 2s \n",
      "Iteration: 45 /100  ;  Training Loss: 0.004766 ; Testing Acc: 77.850 ; Time consumed: 0m 2s \n",
      "Iteration: 46 /100  ;  Training Loss: 0.004736 ; Testing Acc: 78.250 ; Time consumed: 0m 2s \n",
      "Iteration: 47 /100  ;  Training Loss: 0.004715 ; Testing Acc: 78.100 ; Time consumed: 0m 1s \n",
      "Iteration: 48 /100  ;  Training Loss: 0.004686 ; Testing Acc: 78.050 ; Time consumed: 0m 2s \n",
      "Iteration: 49 /100  ;  Training Loss: 0.004657 ; Testing Acc: 78.000 ; Time consumed: 0m 2s \n",
      "Iteration: 50 /100  ;  Training Loss: 0.004629 ; Testing Acc: 78.300 ; Time consumed: 0m 2s \n",
      "Iteration: 51 /100  ;  Training Loss: 0.004605 ; Testing Acc: 78.000 ; Time consumed: 0m 2s \n",
      "Iteration: 52 /100  ;  Training Loss: 0.004576 ; Testing Acc: 78.150 ; Time consumed: 0m 2s \n",
      "Iteration: 53 /100  ;  Training Loss: 0.004562 ; Testing Acc: 78.400 ; Time consumed: 0m 2s \n",
      "Iteration: 54 /100  ;  Training Loss: 0.004526 ; Testing Acc: 78.550 ; Time consumed: 0m 1s \n",
      "Iteration: 55 /100  ;  Training Loss: 0.004505 ; Testing Acc: 78.600 ; Time consumed: 0m 2s \n",
      "Iteration: 56 /100  ;  Training Loss: 0.004484 ; Testing Acc: 78.150 ; Time consumed: 0m 2s \n",
      "Iteration: 57 /100  ;  Training Loss: 0.004467 ; Testing Acc: 78.500 ; Time consumed: 0m 1s \n",
      "Iteration: 58 /100  ;  Training Loss: 0.004438 ; Testing Acc: 78.550 ; Time consumed: 0m 1s \n",
      "Iteration: 59 /100  ;  Training Loss: 0.004424 ; Testing Acc: 78.600 ; Time consumed: 0m 1s \n",
      "Iteration: 60 /100  ;  Training Loss: 0.004404 ; Testing Acc: 78.600 ; Time consumed: 0m 1s \n",
      "Iteration: 61 /100  ;  Training Loss: 0.004380 ; Testing Acc: 78.750 ; Time consumed: 0m 2s \n",
      "Iteration: 62 /100  ;  Training Loss: 0.004363 ; Testing Acc: 78.700 ; Time consumed: 0m 1s \n",
      "Iteration: 63 /100  ;  Training Loss: 0.004338 ; Testing Acc: 78.850 ; Time consumed: 0m 2s \n",
      "Iteration: 64 /100  ;  Training Loss: 0.004327 ; Testing Acc: 78.800 ; Time consumed: 0m 2s \n",
      "Iteration: 65 /100  ;  Training Loss: 0.004300 ; Testing Acc: 78.800 ; Time consumed: 0m 1s \n",
      "Iteration: 66 /100  ;  Training Loss: 0.004291 ; Testing Acc: 79.500 ; Time consumed: 0m 1s \n",
      "Iteration: 67 /100  ;  Training Loss: 0.004273 ; Testing Acc: 79.000 ; Time consumed: 0m 2s \n",
      "Iteration: 68 /100  ;  Training Loss: 0.004250 ; Testing Acc: 79.150 ; Time consumed: 0m 2s \n",
      "Iteration: 69 /100  ;  Training Loss: 0.004234 ; Testing Acc: 78.900 ; Time consumed: 0m 1s \n",
      "Iteration: 70 /100  ;  Training Loss: 0.004209 ; Testing Acc: 79.500 ; Time consumed: 0m 2s \n",
      "Iteration: 71 /100  ;  Training Loss: 0.004198 ; Testing Acc: 78.550 ; Time consumed: 0m 2s \n",
      "Iteration: 72 /100  ;  Training Loss: 0.004179 ; Testing Acc: 78.900 ; Time consumed: 0m 2s \n",
      "Iteration: 73 /100  ;  Training Loss: 0.004165 ; Testing Acc: 79.950 ; Time consumed: 0m 2s \n",
      "Iteration: 74 /100  ;  Training Loss: 0.004140 ; Testing Acc: 79.350 ; Time consumed: 0m 2s \n",
      "Iteration: 75 /100  ;  Training Loss: 0.004128 ; Testing Acc: 79.550 ; Time consumed: 0m 2s \n",
      "Iteration: 76 /100  ;  Training Loss: 0.004102 ; Testing Acc: 79.750 ; Time consumed: 0m 2s \n",
      "Iteration: 77 /100  ;  Training Loss: 0.004091 ; Testing Acc: 79.550 ; Time consumed: 0m 2s \n",
      "Iteration: 78 /100  ;  Training Loss: 0.004078 ; Testing Acc: 79.200 ; Time consumed: 0m 1s \n",
      "Iteration: 79 /100  ;  Training Loss: 0.004058 ; Testing Acc: 79.450 ; Time consumed: 0m 2s \n",
      "Iteration: 80 /100  ;  Training Loss: 0.004060 ; Testing Acc: 79.350 ; Time consumed: 0m 2s \n",
      "Iteration: 81 /100  ;  Training Loss: 0.004046 ; Testing Acc: 79.850 ; Time consumed: 0m 1s \n",
      "Iteration: 82 /100  ;  Training Loss: 0.004013 ; Testing Acc: 79.250 ; Time consumed: 0m 2s \n",
      "Iteration: 83 /100  ;  Training Loss: 0.004001 ; Testing Acc: 79.850 ; Time consumed: 0m 1s \n",
      "Iteration: 84 /100  ;  Training Loss: 0.003980 ; Testing Acc: 79.650 ; Time consumed: 0m 2s \n",
      "Iteration: 85 /100  ;  Training Loss: 0.003968 ; Testing Acc: 79.500 ; Time consumed: 0m 2s \n",
      "Iteration: 86 /100  ;  Training Loss: 0.003958 ; Testing Acc: 79.750 ; Time consumed: 0m 1s \n",
      "Iteration: 87 /100  ;  Training Loss: 0.003951 ; Testing Acc: 79.250 ; Time consumed: 0m 2s \n",
      "Iteration: 88 /100  ;  Training Loss: 0.003929 ; Testing Acc: 79.650 ; Time consumed: 0m 2s \n",
      "Iteration: 89 /100  ;  Training Loss: 0.003918 ; Testing Acc: 79.950 ; Time consumed: 0m 2s \n"
     ]
    },
    {
     "name": "stdout",
     "output_type": "stream",
     "text": [
      "Iteration: 90 /100  ;  Training Loss: 0.003900 ; Testing Acc: 79.550 ; Time consumed: 0m 2s \n",
      "Iteration: 91 /100  ;  Training Loss: 0.003884 ; Testing Acc: 79.850 ; Time consumed: 0m 2s \n",
      "Iteration: 92 /100  ;  Training Loss: 0.003880 ; Testing Acc: 80.300 ; Time consumed: 0m 2s \n",
      "Iteration: 93 /100  ;  Training Loss: 0.003865 ; Testing Acc: 80.050 ; Time consumed: 0m 2s \n",
      "Iteration: 94 /100  ;  Training Loss: 0.003849 ; Testing Acc: 80.450 ; Time consumed: 0m 2s \n",
      "Iteration: 95 /100  ;  Training Loss: 0.003843 ; Testing Acc: 80.500 ; Time consumed: 0m 2s \n",
      "Iteration: 96 /100  ;  Training Loss: 0.003815 ; Testing Acc: 80.400 ; Time consumed: 0m 2s \n",
      "Iteration: 97 /100  ;  Training Loss: 0.003804 ; Testing Acc: 80.300 ; Time consumed: 0m 2s \n",
      "Iteration: 98 /100  ;  Training Loss: 0.003800 ; Testing Acc: 80.300 ; Time consumed: 0m 2s \n",
      "Iteration: 99 /100  ;  Training Loss: 0.003774 ; Testing Acc: 80.250 ; Time consumed: 0m 2s \n",
      "Iteration: 100 /100  ;  Training Loss: 0.003783 ; Testing Acc: 80.550 ; Time consumed: 0m 2s \n",
      "Training completed in 2m 35s\n"
     ]
    },
    {
     "data": {
      "image/png": "[encoded data removed]",
      "text/plain": [
       "<Figure size 432x288 with 1 Axes>"
      ]
     },
     "metadata": {
      "needs_background": "light"
     },
     "output_type": "display_data"
    },
    {
     "data": {
      "image/png": "[encoded data removed]",
      "text/plain": [
       "<Figure size 432x288 with 1 Axes>"
      ]
     },
     "metadata": {
      "needs_background": "light"
     },
     "output_type": "display_data"
    }
   ],
   "source": [
    "iterations = 100\n",
    "trainLoss = []\n",
    "testAcc = []\n",
    "start = time.time()\n",
    "for epoch in range(iterations):\n",
    "    epochStart = time.time()\n",
    "    runningLoss = 0    \n",
    "    net.train(True) # For training\n",
    "    for data in trainLoader:\n",
    "        inputs,labels = data\n",
    "        # Wrap them in Variable\n",
    "        if use_gpu:\n",
    "            inputs, labels = Variable(inputs.cuda()), \\\n",
    "                Variable(labels.cuda())\n",
    "        else:\n",
    "            inputs, labels = Variable(inputs), Variable(labels)  \n",
    "       \n",
    "        # Initialize gradients to zero\n",
    "        optimizer.zero_grad()\n",
    "        # Feed-forward input data through the network        \n",
    "        outputs = net(inputs)        \n",
    "        # Compute loss/error\n",
    "        loss = criterion(outputs, labels)\n",
    "        # Backpropagate loss and compute gradients\n",
    "        loss.backward()\n",
    "        # Update the network parameters\n",
    "        optimizer.step()\n",
    "        # Accumulate loss per batch\n",
    "        runningLoss += loss.data \n",
    "    avgTrainLoss = runningLoss/8000.0\n",
    "    trainLoss.append(avgTrainLoss)\n",
    "    \n",
    "    # Evaluating performance on test set for each epoch\n",
    "    net.train(False) # For testing [Affects batch-norm and dropout layers (if any)]\n",
    "    running_correct = 0\n",
    "    for data in testLoader:\n",
    "        inputs,labels = data\n",
    "        # Wrap them in Variable\n",
    "        if use_gpu:\n",
    "            inputs = Variable(inputs.cuda())\n",
    "            outputs = net(inputs)\n",
    "            _, predicted = torch.max(outputs.data, 1)\n",
    "            predicted = predicted.cpu()\n",
    "        else:\n",
    "            inputs = Variable(inputs)\n",
    "            outputs = net(inputs)\n",
    "            _, predicted = torch.max(outputs.data, 1)    \n",
    "        running_correct += (predicted == labels).sum()\n",
    "    avgTestAcc = float(running_correct)/2000.0\n",
    "    testAcc.append(avgTestAcc)\n",
    "        \n",
    "    # Plotting training loss vs Epochs\n",
    "    fig1 = plt.figure(1)        \n",
    "    plt.plot(range(epoch+1),trainLoss,'r-',label='train')        \n",
    "    if epoch==0:\n",
    "        plt.legend(loc='upper left')\n",
    "        plt.xlabel('Epochs')\n",
    "        plt.ylabel('Training loss')   \n",
    "    # Plotting testing accuracy vs Epochs\n",
    "    fig2 = plt.figure(2)        \n",
    "    plt.plot(range(epoch+1),testAcc,'g-',label='test')        \n",
    "    if epoch==0:\n",
    "        plt.legend(loc='upper left')\n",
    "        plt.xlabel('Epochs')\n",
    "        plt.ylabel('Testing accuracy')    \n",
    "    epochEnd = time.time()-epochStart\n",
    "    print('Iteration: {:.0f} /{:.0f}  ;  Training Loss: {:.6f} ; Testing Acc: {:.3f} ; Time consumed: {:.0f}m {:.0f}s '\\\n",
    "          .format(epoch + 1,iterations,avgTrainLoss,avgTestAcc*100,epochEnd//60,epochEnd%60))\n",
    "end = time.time()-start\n",
    "print('Training completed in {:.0f}m {:.0f}s'.format(end//60,end%60))"
   ]
  },
  {
   "cell_type": "code",
   "execution_count": null,
   "metadata": {
    "colab": {
     "base_uri": "https://localhost:8080/",
     "height": 35
    },
    "colab_type": "code",
    "id": "2FKnuyteKZII",
    "outputId": "d4b11a86-421a-4737-886d-f10f28e761be"
   },
   "outputs": [],
   "source": []
  },
  {
   "cell_type": "code",
   "execution_count": 14,
   "metadata": {
    "colab": {
     "base_uri": "https://localhost:8080/",
     "height": 55
    },
    "colab_type": "code",
    "id": "rDr6jrcsNZms",
    "outputId": "420837bf-1134-4a43-d9d7-ab10bf51077e"
   },
   "outputs": [
    {
     "name": "stderr",
     "output_type": "stream",
     "text": [
      "/home/akansha/.local/lib/python3.5/site-packages/ipykernel_launcher.py:21: UserWarning: Implicit dimension choice for log_softmax has been deprecated. Change the call to include dim=X as an argument.\n"
     ]
    }
   ],
   "source": [
    "if use_gpu:\n",
    "  inputs = Variable(testImages.cuda())  \n",
    "else:\n",
    "  inputs = Variable(testImages)\n",
    "outputs = net(inputs)\n",
    "_, predicted = torch.max(outputs.data, 1)\n",
    "finalPred = predicted.cpu().numpy()"
   ]
  },
  {
   "cell_type": "code",
   "execution_count": 15,
   "metadata": {
    "colab": {},
    "colab_type": "code",
    "id": "zmem06IS2eHe"
   },
   "outputs": [],
   "source": [
    "x = np.arange(0, 2000, 1)\n",
    "x.astype(int)\n",
    "final = np.asarray((x,finalPred),dtype = int)\n",
    "np.savetxt(\"TESTCV.txt\",final.T,fmt='%d' ,delimiter=',', header='image_index,class',comments='')"
   ]
  },
  {
   "cell_type": "code",
   "execution_count": null,
   "metadata": {},
   "outputs": [],
   "source": []
  }
 ],
 "metadata": {
  "accelerator": "GPU",
  "colab": {
   "collapsed_sections": [],
   "name": "TaskCV.ipynb",
   "provenance": [],
   "version": "0.3.2"
  },
  "kernelspec": {
   "display_name": "Python 3",
   "language": "python",
   "name": "python3"
  },
  "language_info": {
   "codemirror_mode": {
    "name": "ipython",
    "version": 3
   },
   "file_extension": ".py",
   "mimetype": "text/x-python",
   "name": "python",
   "nbconvert_exporter": "python",
   "pygments_lexer": "ipython3",
   "version": "3.5.2"
  }
 },
 "nbformat": 4,
 "nbformat_minor": 1
}
