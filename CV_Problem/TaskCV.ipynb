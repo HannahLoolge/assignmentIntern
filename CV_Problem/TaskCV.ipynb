{
 "cells": [
  {
   "cell_type": "code",
   "execution_count": 1,
   "metadata": {
    "colab": {},
    "colab_type": "code",
    "id": "tso2BzPdxnhM"
   },
   "outputs": [],
   "source": [
    "%matplotlib inline\n",
    "import torch\n",
    "import matplotlib.pyplot as plt\n",
    "import numpy as np\n",
    "import torchvision\n",
    "from torchvision import transforms, models\n",
    "import torch.optim as optim\n",
    "from torch.autograd import Variable\n",
    "import torch.nn.functional as F\n",
    "import pickle\n",
    "import torch.nn as nn\n",
    "import time"
   ]
  },
  {
   "cell_type": "markdown",
   "metadata": {},
   "source": [
    "## Loading Data"
   ]
  },
  {
   "cell_type": "code",
   "execution_count": 2,
   "metadata": {
    "colab": {},
    "colab_type": "code",
    "id": "wn1qiU-nxzf4"
   },
   "outputs": [],
   "source": [
    "with open(\"test_image.pkl\", \"rb\") as f:\n",
    "    testImages = pickle.load(f)\n",
    "with open(\"train_image.pkl\", \"rb\") as f:\n",
    "    trainImages = pickle.load(f)\n",
    "with open(\"train_label.pkl\", \"rb\") as f:\n",
    "    trainLabels = pickle.load(f)"
   ]
  },
  {
   "cell_type": "code",
   "execution_count": 3,
   "metadata": {
    "colab": {},
    "colab_type": "code",
    "id": "4POLTaZeOLjg"
   },
   "outputs": [],
   "source": [
    "# Replacing class label 6 with 1\n",
    "for i in range(8000):\n",
    "    if(trainLabels[i]==6): \n",
    "        trainLabels[i] = 1"
   ]
  },
  {
   "cell_type": "code",
   "execution_count": 4,
   "metadata": {
    "colab": {},
    "colab_type": "code",
    "id": "I2Mzpe7C1TYp"
   },
   "outputs": [],
   "source": [
    "trainImages = (np.asarray(trainImages)).reshape(-1,1,28,28)\n",
    "testImages = (np.asarray(testImages)).reshape(-1,1,28,28)\n",
    "\n",
    "trainImages = (torch.from_numpy(trainImages)).float()\n",
    "trainLabels = torch.from_numpy(np.asarray(trainLabels))\n",
    "testImages = (torch.from_numpy(np.asarray(testImages))).float()"
   ]
  },
  {
   "cell_type": "code",
   "execution_count": 5,
   "metadata": {
    "colab": {},
    "colab_type": "code",
    "id": "zbb5AaT2Jsp-"
   },
   "outputs": [],
   "source": [
    "BatchSize = 64\n",
    "\n",
    "trainset = torch.utils.data.TensorDataset(trainImages, trainLabels)\n",
    "trainLoader = torch.utils.data.DataLoader(trainset, batch_size=BatchSize, shuffle=True, num_workers=4)"
   ]
  },
  {
   "cell_type": "markdown",
   "metadata": {},
   "source": [
    "## Defining Model"
   ]
  },
  {
   "cell_type": "code",
   "execution_count": 6,
   "metadata": {
    "colab": {},
    "colab_type": "code",
    "id": "hJbgFAB4NHVH"
   },
   "outputs": [],
   "source": [
    "class Net(nn.Module):\n",
    "    def __init__(self):\n",
    "        super(Net, self).__init__()\n",
    "        self.conv1 = nn.Conv2d(1, 6, kernel_size=5)\n",
    "        self.conv2 = nn.Conv2d(6, 16, kernel_size=5)\n",
    "        self.fc1 = nn.Linear(6400,512)\n",
    "        self.fc2 = nn.Linear(512, 128)\n",
    "        self.fc3 = nn.Linear(128, 32)\n",
    "        self.fc4 = nn.Linear(32, 4)\n",
    "\n",
    "    def forward(self, x):\n",
    "        x = F.relu(self.conv1(x))\n",
    "        x = F.relu(self.conv2(x))\n",
    "        x = x.view(x.size(0), -1)\n",
    "        x = F.relu(self.fc1(x)) \n",
    "        x = F.relu(self.fc2(x))\n",
    "        x = F.relu(self.fc3(x))\n",
    "        x = self.fc4(x)\n",
    "        return F.log_softmax(x)\n"
   ]
  },
  {
   "cell_type": "code",
   "execution_count": 7,
   "metadata": {
    "colab": {
     "base_uri": "https://localhost:8080/",
     "height": 182
    },
    "colab_type": "code",
    "id": "n5PE7IGkTyOm",
    "outputId": "c75e6516-a9c1-493a-ab1b-0862caeb4280"
   },
   "outputs": [
    {
     "name": "stdout",
     "output_type": "stream",
     "text": [
      "Net(\n",
      "  (conv1): Conv2d(1, 6, kernel_size=(5, 5), stride=(1, 1))\n",
      "  (conv2): Conv2d(6, 16, kernel_size=(5, 5), stride=(1, 1))\n",
      "  (fc1): Linear(in_features=6400, out_features=512, bias=True)\n",
      "  (fc2): Linear(in_features=512, out_features=128, bias=True)\n",
      "  (fc3): Linear(in_features=128, out_features=32, bias=True)\n",
      "  (fc4): Linear(in_features=32, out_features=4, bias=True)\n",
      ")\n"
     ]
    }
   ],
   "source": [
    "net = Net()\n",
    "print(net)"
   ]
  },
  {
   "cell_type": "code",
   "execution_count": 8,
   "metadata": {
    "colab": {
     "base_uri": "https://localhost:8080/",
     "height": 35
    },
    "colab_type": "code",
    "id": "ApmS5dA8T1R7",
    "outputId": "115cf69d-6d71-432a-ba2d-f5848d2ece12"
   },
   "outputs": [
    {
     "name": "stdout",
     "output_type": "stream",
     "text": [
      "GPU unavailable !\n"
     ]
    }
   ],
   "source": [
    "# Check availability of GPU\n",
    "use_gpu = torch.cuda.is_available()\n",
    "if use_gpu:\n",
    "    print('GPU is available !')   \n",
    "    net = net.cuda()\n",
    "else:\n",
    "    print('GPU unavailable !')"
   ]
  },
  {
   "cell_type": "code",
   "execution_count": 9,
   "metadata": {
    "colab": {},
    "colab_type": "code",
    "id": "dtHSopXiWCJ5"
   },
   "outputs": [],
   "source": [
    "criterion = nn.NLLLoss() # Negative Log-likelihood\n",
    "optimizer = optim.Adam(net.parameters(), lr=1e-5) # Adam"
   ]
  },
  {
   "cell_type": "markdown",
   "metadata": {},
   "source": [
    "## training model"
   ]
  },
  {
   "cell_type": "code",
   "execution_count": 11,
   "metadata": {
    "colab": {
     "base_uri": "https://localhost:8080/",
     "height": 1521
    },
    "colab_type": "code",
    "id": "JLtzO3dgWICX",
    "outputId": "2dfc6159-7ef4-44d0-80e8-51d01f04c26c"
   },
   "outputs": [
    {
     "name": "stderr",
     "output_type": "stream",
     "text": [
      "/home/akansha/.local/lib/python3.5/site-packages/ipykernel_launcher.py:19: UserWarning: Implicit dimension choice for log_softmax has been deprecated. Change the call to include dim=X as an argument.\n"
     ]
    },
    {
     "name": "stdout",
     "output_type": "stream",
     "text": [
      "Epoch: 1 /150  ;  Training Loss: 0.005745 ; Time consumed: 0m 6s \n",
      "Epoch: 2 /150  ;  Training Loss: 0.005467 ; Time consumed: 0m 6s \n",
      "Epoch: 3 /150  ;  Training Loss: 0.005052 ; Time consumed: 0m 5s \n",
      "Epoch: 4 /150  ;  Training Loss: 0.004803 ; Time consumed: 0m 5s \n",
      "Epoch: 5 /150  ;  Training Loss: 0.004542 ; Time consumed: 0m 6s \n",
      "Epoch: 6 /150  ;  Training Loss: 0.004267 ; Time consumed: 0m 6s \n",
      "Epoch: 7 /150  ;  Training Loss: 0.004031 ; Time consumed: 0m 5s \n",
      "Epoch: 8 /150  ;  Training Loss: 0.003836 ; Time consumed: 0m 5s \n",
      "Epoch: 9 /150  ;  Training Loss: 0.003558 ; Time consumed: 0m 5s \n",
      "Epoch: 10 /150  ;  Training Loss: 0.003334 ; Time consumed: 0m 6s \n",
      "Epoch: 11 /150  ;  Training Loss: 0.003121 ; Time consumed: 0m 5s \n",
      "Epoch: 12 /150  ;  Training Loss: 0.002992 ; Time consumed: 0m 7s \n",
      "Epoch: 13 /150  ;  Training Loss: 0.002792 ; Time consumed: 0m 6s \n",
      "Epoch: 14 /150  ;  Training Loss: 0.002658 ; Time consumed: 0m 5s \n",
      "Epoch: 15 /150  ;  Training Loss: 0.002484 ; Time consumed: 0m 6s \n",
      "Epoch: 16 /150  ;  Training Loss: 0.002314 ; Time consumed: 0m 6s \n",
      "Epoch: 17 /150  ;  Training Loss: 0.002243 ; Time consumed: 0m 6s \n",
      "Epoch: 18 /150  ;  Training Loss: 0.002144 ; Time consumed: 0m 6s \n",
      "Epoch: 19 /150  ;  Training Loss: 0.001926 ; Time consumed: 0m 6s \n",
      "Epoch: 20 /150  ;  Training Loss: 0.001859 ; Time consumed: 0m 6s \n",
      "Epoch: 21 /150  ;  Training Loss: 0.001681 ; Time consumed: 0m 6s \n",
      "Epoch: 22 /150  ;  Training Loss: 0.001640 ; Time consumed: 0m 6s \n",
      "Epoch: 23 /150  ;  Training Loss: 0.001455 ; Time consumed: 0m 6s \n",
      "Epoch: 24 /150  ;  Training Loss: 0.001387 ; Time consumed: 0m 6s \n",
      "Epoch: 25 /150  ;  Training Loss: 0.001332 ; Time consumed: 0m 6s \n",
      "Epoch: 26 /150  ;  Training Loss: 0.001200 ; Time consumed: 0m 5s \n",
      "Epoch: 27 /150  ;  Training Loss: 0.001178 ; Time consumed: 0m 5s \n",
      "Epoch: 28 /150  ;  Training Loss: 0.001060 ; Time consumed: 0m 5s \n",
      "Epoch: 29 /150  ;  Training Loss: 0.001020 ; Time consumed: 0m 6s \n",
      "Epoch: 30 /150  ;  Training Loss: 0.000939 ; Time consumed: 0m 6s \n",
      "Epoch: 31 /150  ;  Training Loss: 0.000886 ; Time consumed: 0m 7s \n",
      "Epoch: 32 /150  ;  Training Loss: 0.000827 ; Time consumed: 0m 5s \n",
      "Epoch: 33 /150  ;  Training Loss: 0.000727 ; Time consumed: 0m 5s \n",
      "Epoch: 34 /150  ;  Training Loss: 0.000730 ; Time consumed: 0m 5s \n",
      "Epoch: 35 /150  ;  Training Loss: 0.000671 ; Time consumed: 0m 5s \n",
      "Epoch: 36 /150  ;  Training Loss: 0.000611 ; Time consumed: 0m 5s \n",
      "Epoch: 37 /150  ;  Training Loss: 0.000546 ; Time consumed: 0m 5s \n",
      "Epoch: 38 /150  ;  Training Loss: 0.000524 ; Time consumed: 0m 5s \n",
      "Epoch: 39 /150  ;  Training Loss: 0.000545 ; Time consumed: 0m 6s \n",
      "Epoch: 40 /150  ;  Training Loss: 0.000463 ; Time consumed: 0m 6s \n",
      "Epoch: 41 /150  ;  Training Loss: 0.000400 ; Time consumed: 0m 6s \n",
      "Epoch: 42 /150  ;  Training Loss: 0.000351 ; Time consumed: 0m 6s \n",
      "Epoch: 43 /150  ;  Training Loss: 0.000372 ; Time consumed: 0m 6s \n",
      "Epoch: 44 /150  ;  Training Loss: 0.000393 ; Time consumed: 0m 6s \n",
      "Epoch: 45 /150  ;  Training Loss: 0.000364 ; Time consumed: 0m 6s \n",
      "Epoch: 46 /150  ;  Training Loss: 0.000279 ; Time consumed: 0m 5s \n",
      "Epoch: 47 /150  ;  Training Loss: 0.000263 ; Time consumed: 0m 6s \n",
      "Epoch: 48 /150  ;  Training Loss: 0.000251 ; Time consumed: 0m 6s \n",
      "Epoch: 49 /150  ;  Training Loss: 0.000222 ; Time consumed: 0m 6s \n",
      "Epoch: 50 /150  ;  Training Loss: 0.000195 ; Time consumed: 0m 6s \n",
      "Epoch: 51 /150  ;  Training Loss: 0.000193 ; Time consumed: 0m 6s \n",
      "Epoch: 52 /150  ;  Training Loss: 0.000198 ; Time consumed: 0m 5s \n",
      "Epoch: 53 /150  ;  Training Loss: 0.000176 ; Time consumed: 0m 6s \n",
      "Epoch: 54 /150  ;  Training Loss: 0.000149 ; Time consumed: 0m 5s \n",
      "Epoch: 55 /150  ;  Training Loss: 0.000143 ; Time consumed: 0m 6s \n",
      "Epoch: 56 /150  ;  Training Loss: 0.000132 ; Time consumed: 0m 6s \n",
      "Epoch: 57 /150  ;  Training Loss: 0.000117 ; Time consumed: 0m 6s \n",
      "Epoch: 58 /150  ;  Training Loss: 0.000113 ; Time consumed: 0m 6s \n",
      "Epoch: 59 /150  ;  Training Loss: 0.000297 ; Time consumed: 0m 6s \n",
      "Epoch: 60 /150  ;  Training Loss: 0.000204 ; Time consumed: 0m 6s \n",
      "Epoch: 61 /150  ;  Training Loss: 0.000094 ; Time consumed: 0m 6s \n",
      "Epoch: 62 /150  ;  Training Loss: 0.000077 ; Time consumed: 0m 6s \n",
      "Epoch: 63 /150  ;  Training Loss: 0.000073 ; Time consumed: 0m 7s \n",
      "Epoch: 64 /150  ;  Training Loss: 0.000065 ; Time consumed: 0m 6s \n",
      "Epoch: 65 /150  ;  Training Loss: 0.000061 ; Time consumed: 0m 6s \n",
      "Epoch: 66 /150  ;  Training Loss: 0.000077 ; Time consumed: 0m 5s \n",
      "Epoch: 67 /150  ;  Training Loss: 0.000058 ; Time consumed: 0m 6s \n",
      "Epoch: 68 /150  ;  Training Loss: 0.000050 ; Time consumed: 0m 6s \n",
      "Epoch: 69 /150  ;  Training Loss: 0.000087 ; Time consumed: 0m 6s \n",
      "Epoch: 70 /150  ;  Training Loss: 0.000441 ; Time consumed: 0m 6s \n",
      "Epoch: 71 /150  ;  Training Loss: 0.000457 ; Time consumed: 0m 6s \n",
      "Epoch: 72 /150  ;  Training Loss: 0.000069 ; Time consumed: 0m 5s \n",
      "Epoch: 73 /150  ;  Training Loss: 0.000052 ; Time consumed: 0m 6s \n",
      "Epoch: 74 /150  ;  Training Loss: 0.000046 ; Time consumed: 0m 6s \n",
      "Epoch: 75 /150  ;  Training Loss: 0.000042 ; Time consumed: 0m 6s \n",
      "Epoch: 76 /150  ;  Training Loss: 0.000039 ; Time consumed: 0m 5s \n",
      "Epoch: 77 /150  ;  Training Loss: 0.000036 ; Time consumed: 0m 6s \n",
      "Epoch: 78 /150  ;  Training Loss: 0.000034 ; Time consumed: 0m 6s \n",
      "Epoch: 79 /150  ;  Training Loss: 0.000033 ; Time consumed: 0m 6s \n",
      "Epoch: 80 /150  ;  Training Loss: 0.000031 ; Time consumed: 0m 5s \n",
      "Epoch: 81 /150  ;  Training Loss: 0.000029 ; Time consumed: 0m 6s \n",
      "Epoch: 82 /150  ;  Training Loss: 0.000028 ; Time consumed: 0m 5s \n",
      "Epoch: 83 /150  ;  Training Loss: 0.000027 ; Time consumed: 0m 6s \n",
      "Epoch: 84 /150  ;  Training Loss: 0.000025 ; Time consumed: 0m 5s \n",
      "Epoch: 85 /150  ;  Training Loss: 0.000024 ; Time consumed: 0m 6s \n",
      "Epoch: 86 /150  ;  Training Loss: 0.000024 ; Time consumed: 0m 5s \n",
      "Epoch: 87 /150  ;  Training Loss: 0.000022 ; Time consumed: 0m 6s \n",
      "Epoch: 88 /150  ;  Training Loss: 0.000022 ; Time consumed: 0m 6s \n",
      "Epoch: 89 /150  ;  Training Loss: 0.000020 ; Time consumed: 0m 6s \n",
      "Epoch: 90 /150  ;  Training Loss: 0.000018 ; Time consumed: 0m 7s \n",
      "Epoch: 91 /150  ;  Training Loss: 0.000018 ; Time consumed: 0m 7s \n",
      "Epoch: 92 /150  ;  Training Loss: 0.000017 ; Time consumed: 0m 7s \n",
      "Epoch: 93 /150  ;  Training Loss: 0.000016 ; Time consumed: 0m 6s \n",
      "Epoch: 94 /150  ;  Training Loss: 0.000016 ; Time consumed: 0m 6s \n",
      "Epoch: 95 /150  ;  Training Loss: 0.000015 ; Time consumed: 0m 6s \n",
      "Epoch: 96 /150  ;  Training Loss: 0.000014 ; Time consumed: 0m 6s \n",
      "Epoch: 97 /150  ;  Training Loss: 0.000014 ; Time consumed: 0m 6s \n",
      "Epoch: 98 /150  ;  Training Loss: 0.000829 ; Time consumed: 0m 6s \n",
      "Epoch: 99 /150  ;  Training Loss: 0.000312 ; Time consumed: 0m 6s \n",
      "Epoch: 100 /150  ;  Training Loss: 0.000045 ; Time consumed: 0m 6s \n",
      "Epoch: 101 /150  ;  Training Loss: 0.000030 ; Time consumed: 0m 6s \n",
      "Epoch: 102 /150  ;  Training Loss: 0.000025 ; Time consumed: 0m 6s \n",
      "Epoch: 103 /150  ;  Training Loss: 0.000022 ; Time consumed: 0m 6s \n",
      "Epoch: 104 /150  ;  Training Loss: 0.000020 ; Time consumed: 0m 6s \n",
      "Epoch: 105 /150  ;  Training Loss: 0.000018 ; Time consumed: 0m 6s \n",
      "Epoch: 106 /150  ;  Training Loss: 0.000017 ; Time consumed: 0m 6s \n",
      "Epoch: 107 /150  ;  Training Loss: 0.000016 ; Time consumed: 0m 6s \n",
      "Epoch: 108 /150  ;  Training Loss: 0.000015 ; Time consumed: 0m 6s \n",
      "Epoch: 109 /150  ;  Training Loss: 0.000014 ; Time consumed: 0m 6s \n",
      "Epoch: 110 /150  ;  Training Loss: 0.000013 ; Time consumed: 0m 6s \n",
      "Epoch: 111 /150  ;  Training Loss: 0.000013 ; Time consumed: 0m 6s \n",
      "Epoch: 112 /150  ;  Training Loss: 0.000012 ; Time consumed: 0m 6s \n",
      "Epoch: 113 /150  ;  Training Loss: 0.000012 ; Time consumed: 0m 6s \n",
      "Epoch: 114 /150  ;  Training Loss: 0.000011 ; Time consumed: 0m 6s \n",
      "Epoch: 115 /150  ;  Training Loss: 0.000011 ; Time consumed: 0m 6s \n",
      "Epoch: 116 /150  ;  Training Loss: 0.000010 ; Time consumed: 0m 6s \n",
      "Epoch: 117 /150  ;  Training Loss: 0.000010 ; Time consumed: 0m 6s \n",
      "Epoch: 118 /150  ;  Training Loss: 0.000009 ; Time consumed: 0m 6s \n",
      "Epoch: 119 /150  ;  Training Loss: 0.000009 ; Time consumed: 0m 6s \n",
      "Epoch: 120 /150  ;  Training Loss: 0.000009 ; Time consumed: 0m 6s \n",
      "Epoch: 121 /150  ;  Training Loss: 0.000008 ; Time consumed: 0m 6s \n",
      "Epoch: 122 /150  ;  Training Loss: 0.000008 ; Time consumed: 0m 6s \n",
      "Epoch: 123 /150  ;  Training Loss: 0.000008 ; Time consumed: 0m 6s \n"
     ]
    },
    {
     "name": "stdout",
     "output_type": "stream",
     "text": [
      "Epoch: 124 /150  ;  Training Loss: 0.000007 ; Time consumed: 0m 6s \n",
      "Epoch: 125 /150  ;  Training Loss: 0.000007 ; Time consumed: 0m 6s \n",
      "Epoch: 126 /150  ;  Training Loss: 0.000007 ; Time consumed: 0m 6s \n",
      "Epoch: 127 /150  ;  Training Loss: 0.000007 ; Time consumed: 0m 6s \n",
      "Epoch: 128 /150  ;  Training Loss: 0.000006 ; Time consumed: 0m 6s \n",
      "Epoch: 129 /150  ;  Training Loss: 0.000006 ; Time consumed: 0m 6s \n",
      "Epoch: 130 /150  ;  Training Loss: 0.000006 ; Time consumed: 0m 6s \n",
      "Epoch: 131 /150  ;  Training Loss: 0.000006 ; Time consumed: 0m 7s \n",
      "Epoch: 132 /150  ;  Training Loss: 0.000005 ; Time consumed: 0m 7s \n",
      "Epoch: 133 /150  ;  Training Loss: 0.000005 ; Time consumed: 0m 6s \n",
      "Epoch: 134 /150  ;  Training Loss: 0.000005 ; Time consumed: 0m 7s \n",
      "Epoch: 135 /150  ;  Training Loss: 0.000005 ; Time consumed: 0m 7s \n",
      "Epoch: 136 /150  ;  Training Loss: 0.000005 ; Time consumed: 0m 6s \n",
      "Epoch: 137 /150  ;  Training Loss: 0.000004 ; Time consumed: 0m 6s \n",
      "Epoch: 138 /150  ;  Training Loss: 0.000004 ; Time consumed: 0m 6s \n",
      "Epoch: 139 /150  ;  Training Loss: 0.000004 ; Time consumed: 0m 5s \n",
      "Epoch: 140 /150  ;  Training Loss: 0.000004 ; Time consumed: 0m 6s \n",
      "Epoch: 141 /150  ;  Training Loss: 0.000003 ; Time consumed: 0m 6s \n",
      "Epoch: 142 /150  ;  Training Loss: 0.000003 ; Time consumed: 0m 6s \n",
      "Epoch: 143 /150  ;  Training Loss: 0.000003 ; Time consumed: 0m 6s \n",
      "Epoch: 144 /150  ;  Training Loss: 0.000003 ; Time consumed: 0m 6s \n",
      "Epoch: 145 /150  ;  Training Loss: 0.000003 ; Time consumed: 0m 6s \n",
      "Epoch: 146 /150  ;  Training Loss: 0.000003 ; Time consumed: 0m 6s \n",
      "Epoch: 147 /150  ;  Training Loss: 0.000003 ; Time consumed: 0m 6s \n",
      "Epoch: 148 /150  ;  Training Loss: 0.000002 ; Time consumed: 0m 6s \n",
      "Epoch: 149 /150  ;  Training Loss: 0.000002 ; Time consumed: 0m 6s \n",
      "Epoch: 150 /150  ;  Training Loss: 0.000002 ; Time consumed: 0m 6s \n",
      "Training finished in 14m 35s\n"
     ]
    },
    {
     "data": {
      "image/png": "[encoded data removed]",
      "text/plain": [
       "<Figure size 432x288 with 1 Axes>"
      ]
     },
     "metadata": {
      "needs_background": "light"
     },
     "output_type": "display_data"
    }
   ],
   "source": [
    "totalEpochs = 150\n",
    "trainLossList = []\n",
    "startTime = time.time()\n",
    "for epoch in range(totalEpochs):\n",
    "    epochStart = time.time()\n",
    "    runningLoss = 0    \n",
    "    net.train(True) # For training\n",
    "    for data in trainLoader:\n",
    "        inputs,labels = data\n",
    "        # Wrap them in Variable\n",
    "        if use_gpu:\n",
    "            inputs, labels = Variable(inputs.cuda()), \\\n",
    "                Variable(labels.cuda())\n",
    "        else:\n",
    "            inputs, labels = Variable(inputs), Variable(labels)  \n",
    "       \n",
    "        # Initialize gradients to zero\n",
    "        optimizer.zero_grad()\n",
    "        # Feed-forward input data through the network        \n",
    "        outputs = net(inputs)        \n",
    "        # Compute loss/error\n",
    "        loss = criterion(outputs, labels)\n",
    "        # Backpropagate loss and compute gradients\n",
    "        loss.backward()\n",
    "        # Update the network parameters\n",
    "        optimizer.step()\n",
    "        # Accumulate loss per batch\n",
    "        runningLoss += loss.data \n",
    "    avgTrainLoss = runningLoss/8000.0\n",
    "    trainLossList.append(avgTrainLoss)\n",
    "        \n",
    "    # Plotting training loss vs Epochs\n",
    "    fig1 = plt.figure(1)        \n",
    "    plt.plot(range(epoch+1),trainLossList,'r-',label='train')        \n",
    "    if epoch==0:\n",
    "        plt.legend(loc='upper left')\n",
    "        plt.xlabel('Epochs')\n",
    "        plt.ylabel('Training loss')       \n",
    "    epochEnd = time.time()-epochStart\n",
    "    print('Epoch: {:.0f} /{:.0f}  ;  Training Loss: {:.6f} ; Time consumed: {:.0f}m {:.0f}s '\\\n",
    "          .format(epoch + 1,totalEpochs,avgTrainLoss,epochEnd//60,epochEnd%60))\n",
    "end = time.time()-startTime\n",
    "print('Training finished in {:.0f}m {:.0f}s'.format(end//60,end%60))"
   ]
  },
  {
   "cell_type": "markdown",
   "metadata": {},
   "source": [
    "## Predicting test labels and saving into file"
   ]
  },
  {
   "cell_type": "code",
   "execution_count": 12,
   "metadata": {
    "colab": {
     "base_uri": "https://localhost:8080/",
     "height": 55
    },
    "colab_type": "code",
    "id": "rDr6jrcsNZms",
    "outputId": "420837bf-1134-4a43-d9d7-ab10bf51077e"
   },
   "outputs": [
    {
     "name": "stderr",
     "output_type": "stream",
     "text": [
      "/home/akansha/.local/lib/python3.5/site-packages/ipykernel_launcher.py:19: UserWarning: Implicit dimension choice for log_softmax has been deprecated. Change the call to include dim=X as an argument.\n"
     ]
    }
   ],
   "source": [
    "if use_gpu:\n",
    "    inputs = Variable(testImages.cuda())  \n",
    "else:\n",
    "    inputs = Variable(testImages)\n",
    "\n",
    "outputs = net(inputs)\n",
    "_, predicted = torch.max(outputs.data, 1)\n",
    "finalPred = predicted.cpu().numpy()\n",
    "\n",
    "# Replacing class label 1 with 6\n",
    "for i in range(2000):\n",
    "    if finalPred[i] == 1:\n",
    "        finalPred[i] = 6"
   ]
  },
  {
   "cell_type": "code",
   "execution_count": 13,
   "metadata": {
    "colab": {},
    "colab_type": "code",
    "id": "zmem06IS2eHe"
   },
   "outputs": [],
   "source": [
    "# Saving predictions into a file\n",
    "x = np.arange(0, 2000, 1)\n",
    "x.astype(int)\n",
    "final = np.asarray((x,finalPred),dtype = int)\n",
    "np.savetxt(\"Testlabel.csv\",final.T,fmt='%d' ,delimiter=',', header='image,pred',comments='')"
   ]
  },
  {
   "cell_type": "code",
   "execution_count": null,
   "metadata": {},
   "outputs": [],
   "source": []
  }
 ],
 "metadata": {
  "accelerator": "GPU",
  "colab": {
   "collapsed_sections": [],
   "name": "TaskCV.ipynb",
   "provenance": [],
   "version": "0.3.2"
  },
  "kernelspec": {
   "display_name": "Python 3",
   "language": "python",
   "name": "python3"
  },
  "language_info": {
   "codemirror_mode": {
    "name": "ipython",
    "version": 3
   },
   "file_extension": ".py",
   "mimetype": "text/x-python",
   "name": "python",
   "nbconvert_exporter": "python",
   "pygments_lexer": "ipython3",
   "version": "3.5.2"
  }
 },
 "nbformat": 4,
 "nbformat_minor": 1
}
